{
 "cells": [
  {
   "cell_type": "code",
   "execution_count": 6,
   "id": "complete-agreement",
   "metadata": {},
   "outputs": [],
   "source": [
    "import argparse\n",
    "import io\n",
    "import json\n",
    "import os\n",
    "from google.cloud import speech, storage\n",
    "\n",
    "# DST_BUCKET_NAME = os.environ.get('DST_BUCKET_NAME') ---- Uncomment in Cloud Function\n",
    "\n",
    "DST_BUCKET_NAME = \"meeting-transcript-processed-team13\""
   ]
  },
  {
   "cell_type": "code",
   "execution_count": 7,
   "id": "guided-scheme",
   "metadata": {},
   "outputs": [],
   "source": [
    "def transcribe_gcs(gcs_uri: str) -> dict:\n",
    "    \"\"\"Asynchronously transcribes the audio file specified by the gcs_uri.\"\"\"\n",
    "\n",
    "    client = speech.SpeechClient()\n",
    "\n",
    "    audio = speech.types.RecognitionAudio(uri=gcs_uri)\n",
    "    \n",
    "    config = speech.types.RecognitionConfig(\n",
    "        encoding=speech.enums.RecognitionConfig.AudioEncoding.FLAC,\n",
    "        sample_rate_hertz=48000,\n",
    "        language_code=\"en-US\",\n",
    "        audio_channel_count=2,\n",
    "        enable_automatic_punctuation=True,\n",
    "    )\n",
    "\n",
    "    operation = client.long_running_recognize(config=config, audio=audio)\n",
    "\n",
    "    print(\"Waiting for operation to complete...\")\n",
    "    \n",
    "    response = operation.result(timeout=2000)\n",
    "   \n",
    "    transcript = []\n",
    "    for res in response.results:\n",
    "        for alt in res.alternatives:\n",
    "            transcript.append({\"transcript\": alt.transcript, \"confidence\": alt.confidence})\n",
    "    \n",
    "    return transcript"
   ]
  },
  {
   "cell_type": "code",
   "execution_count": 8,
   "id": "afraid-threat",
   "metadata": {},
   "outputs": [],
   "source": [
    "def upload_file_to_gcs(\n",
    "        src_filename: str,\n",
    "        transcript: dict,\n",
    "        storage_client,\n",
    "        DST_BUCKET_NAME: str,\n",
    "):\n",
    "    \"\"\"Uploads a file to Google Cloud Storage.\"\"\"\n",
    "\n",
    "    dst_filename = os.path.join(\"PROCESSED_\" + src_filename)\n",
    "    tmp_filepath = os.path.join(\"/tmp\", dst_filename)\n",
    "\n",
    "    with open(f'{tmp_filepath}', 'w') as file:\n",
    "        json.dump(transcript, file)\n",
    "\n",
    "    print(f'Processed transcript stored in: {tmp_filepath}')\n",
    "\n",
    "    bucket = storage_client.get_bucket(DST_BUCKET_NAME)\n",
    "    blob = bucket.blob(dst_filename)\n",
    "\n",
    "    blob.upload_from_filename(tmp_filepath)\n",
    "\n",
    "    return print(f'{tmp_filepath} uploaded to {DST_BUCKET_NAME}/{dst_filename}.')\n"
   ]
  },
  {
   "cell_type": "code",
   "execution_count": 27,
   "id": "least-block",
   "metadata": {},
   "outputs": [],
   "source": [
    "def process_transcripts(data, context = None):\n",
    "    \n",
    "    # Set up parameters\n",
    "    FILE = data['name']\n",
    "    SRC_BUCKET_NAME = data['bucket']\n",
    "    \n",
    "    print(f'Source Bucket: {SRC_BUCKET_NAME}')\n",
    "    print(f'Source Filename: {FILE}')\n",
    "    print(f'Destination Bucket: {DST_BUCKET_NAME}')   \n",
    "    \n",
    "    print('Starting Process Transcript...')\n",
    "    \n",
    "    # Instantiate a Google Cloud Storage client \n",
    "    storage_client = storage.Client()\n",
    "    \n",
    "    # Process transcript from speech to text \n",
    "    gcs_uri = \"gs://meeting-audio-team13/test_rec.flac\"\n",
    "    transcript = transcribe_gcs(gcs_uri)\n",
    "    \n",
    "\n",
    "    # Upload data to gcs\n",
    "#     upload_transcript_to_gcs(FILE, transcript, storage_client, DST_BUCKET_NAME)\n",
    "    upload_file_to_gcs(FILE, transcript, storage_client, DST_BUCKET_NAME)\n",
    "    \n",
    "    print('Process Transcript Complete.')"
   ]
  },
  {
   "cell_type": "code",
   "execution_count": 28,
   "id": "thirty-winning",
   "metadata": {},
   "outputs": [],
   "source": [
    "gcs_uri = \"gs://meeting-audio-team13/on_mute_flac.flac\"\n",
    "gcs_uri2 = \"gs://meeting-audio-team13/test_rec.flac\"\n",
    "\n",
    "# transcribe_gcs(gcs_uri2)"
   ]
  },
  {
   "cell_type": "code",
   "execution_count": 29,
   "id": "limited-beatles",
   "metadata": {},
   "outputs": [
    {
     "name": "stdout",
     "output_type": "stream",
     "text": [
      "Source Bucket: meeting-transcript-team13\n",
      "Source Filename: test_rec.json\n"
     ]
    },
    {
     "ename": "NameError",
     "evalue": "name 'DST_BUCKET_NAME' is not defined",
     "output_type": "error",
     "traceback": [
      "\u001b[0;31m---------------------------------------------------------------------------\u001b[0m",
      "\u001b[0;31mNameError\u001b[0m                                 Traceback (most recent call last)",
      "\u001b[0;32m<ipython-input-29-8e87fcc67bcf>\u001b[0m in \u001b[0;36m<module>\u001b[0;34m\u001b[0m\n\u001b[1;32m      6\u001b[0m     }\n\u001b[1;32m      7\u001b[0m \u001b[0;34m\u001b[0m\u001b[0m\n\u001b[0;32m----> 8\u001b[0;31m     \u001b[0mprocess_transcripts\u001b[0m\u001b[0;34m(\u001b[0m\u001b[0mgcs_test_object\u001b[0m\u001b[0;34m)\u001b[0m\u001b[0;34m\u001b[0m\u001b[0;34m\u001b[0m\u001b[0m\n\u001b[0m",
      "\u001b[0;32m<ipython-input-27-5e631db62283>\u001b[0m in \u001b[0;36mprocess_transcripts\u001b[0;34m(data, context)\u001b[0m\n\u001b[1;32m      7\u001b[0m     \u001b[0mprint\u001b[0m\u001b[0;34m(\u001b[0m\u001b[0;34mf'Source Bucket: {SRC_BUCKET_NAME}'\u001b[0m\u001b[0;34m)\u001b[0m\u001b[0;34m\u001b[0m\u001b[0;34m\u001b[0m\u001b[0m\n\u001b[1;32m      8\u001b[0m     \u001b[0mprint\u001b[0m\u001b[0;34m(\u001b[0m\u001b[0;34mf'Source Filename: {FILE}'\u001b[0m\u001b[0;34m)\u001b[0m\u001b[0;34m\u001b[0m\u001b[0;34m\u001b[0m\u001b[0m\n\u001b[0;32m----> 9\u001b[0;31m     \u001b[0mprint\u001b[0m\u001b[0;34m(\u001b[0m\u001b[0;34mf'Destination Bucket: {DST_BUCKET_NAME}'\u001b[0m\u001b[0;34m)\u001b[0m\u001b[0;34m\u001b[0m\u001b[0;34m\u001b[0m\u001b[0m\n\u001b[0m\u001b[1;32m     10\u001b[0m \u001b[0;34m\u001b[0m\u001b[0m\n\u001b[1;32m     11\u001b[0m     \u001b[0mprint\u001b[0m\u001b[0;34m(\u001b[0m\u001b[0;34m'Starting Process Transcript...'\u001b[0m\u001b[0;34m)\u001b[0m\u001b[0;34m\u001b[0m\u001b[0;34m\u001b[0m\u001b[0m\n",
      "\u001b[0;31mNameError\u001b[0m: name 'DST_BUCKET_NAME' is not defined"
     ]
    }
   ],
   "source": [
    "if __name__ == \"__main__\":\n",
    "    \n",
    "    gcs_test_object = {\n",
    "        \"name\": \"test_rec.json\",\n",
    "        \"bucket\": \"meeting-transcript-team13\",\n",
    "    }\n",
    "    \n",
    "    process_transcripts(gcs_test_object)"
   ]
  },
  {
   "cell_type": "code",
   "execution_count": null,
   "id": "suspected-accreditation",
   "metadata": {},
   "outputs": [],
   "source": []
  },
  {
   "cell_type": "code",
   "execution_count": null,
   "id": "smoking-difficulty",
   "metadata": {},
   "outputs": [],
   "source": []
  },
  {
   "cell_type": "markdown",
   "id": "injured-incentive",
   "metadata": {},
   "source": [
    "#### Want to remove deprecated version of google.cloud and use latest.\n",
    "\n",
    "The submodules `enums` and `types` have been removed."
   ]
  },
  {
   "cell_type": "code",
   "execution_count": null,
   "id": "solid-semester",
   "metadata": {},
   "outputs": [],
   "source": [
    "!pip install google-cloud-speech==2.0.0"
   ]
  },
  {
   "cell_type": "markdown",
   "id": "everyday-candidate",
   "metadata": {},
   "source": [
    "Removed any references to submodules `enums` and `types`. Ran successfully."
   ]
  },
  {
   "cell_type": "code",
   "execution_count": 1,
   "id": "characteristic-basic",
   "metadata": {},
   "outputs": [],
   "source": [
    "\"\"\"Final code in the corresponding Cloud Function.\"\"\"\n",
    "\n",
    "from google.cloud import speech, storage\n",
    "import json\n",
    "import os\n",
    "\n",
    "\n",
    "def transcribe_gcs(gcs_uri: str) -> dict:\n",
    "    \"\"\"Asynchronously transcribes the audio file specified by the gcs_uri.\"\"\"\n",
    "\n",
    "    client = speech.SpeechClient()\n",
    "\n",
    "    audio = speech.RecognitionAudio(uri=gcs_uri)\n",
    "\n",
    "    config = speech.RecognitionConfig(\n",
    "#         encoding=speech.RecognitionConfig.AudioEncoding.FLAC,\n",
    "        encoding=speech.RecognitionConfig.AudioEncoding.ENCODING_UNSPECIFIED,\n",
    "        sample_rate_hertz=48000,\n",
    "        language_code=\"en-GB\",\n",
    "        audio_channel_count=2,\n",
    "        enable_automatic_punctuation=True,\n",
    "    )\n",
    "\n",
    "    operation = client.long_running_recognize(config=config, audio=audio)\n",
    "\n",
    "    print(\"Waiting for operation to complete...\")\n",
    "\n",
    "    response = operation.result()\n",
    "\n",
    "    transcript = []\n",
    "    for res in response.results:\n",
    "        for alt in res.alternatives:\n",
    "            transcript.append(alt.transcript)\n",
    "\n",
    "    return transcript\n",
    "\n",
    "def upload_file_to_gcs(\n",
    "        src_filename: str,\n",
    "        transcript: list,\n",
    "        storage_client,\n",
    "        DST_BUCKET_NAME: str,\n",
    "):\n",
    "    \"\"\"Uploads a file to Google Cloud Storage.\"\"\"\n",
    "\n",
    "#     dst_filename = os.path.join(\"TRANSCRIBED_\" + src_filename.replace(\".flac\",\".txt\"))\n",
    "    dst_filename = os.path.join(\"TRANSCRIBED_\" + src_filename.replace(src_filename.split(\".\")[1], \"txt\"))\n",
    "    tmp_filepath = os.path.join(\"/tmp\", dst_filename)\n",
    "\n",
    "    with open(f'{tmp_filepath}', 'w') as file:\n",
    "        for item in transcript:\n",
    "            file.write(f'{item}\\n')\n",
    "\n",
    "    print(f'Processed transcript stored in: {tmp_filepath}')\n",
    "\n",
    "    bucket = storage_client.get_bucket(DST_BUCKET_NAME)\n",
    "    blob = bucket.blob(dst_filename)\n",
    "\n",
    "    blob.upload_from_filename(tmp_filepath)\n",
    "\n",
    "    return print(f'{tmp_filepath} uploaded to {DST_BUCKET_NAME}/{dst_filename}.')\n",
    "\n",
    "def process_transcripts(data, context = None):\n",
    "    \"\"\"Orchestrator function that runs everything sequentially.\"\"\"\n",
    "\n",
    "    # Set up parameters\n",
    "    FILE = data['name']\n",
    "    SRC_BUCKET_NAME = data['bucket']\n",
    "    DST_BUCKET_NAME = os.environ.get('DST_BUCKET_NAME')\n",
    "    \n",
    "    print(f'Source Bucket: {SRC_BUCKET_NAME}')\n",
    "    print(f'Source Filename: {FILE}')\n",
    "    print(f'Destination Bucket: {DST_BUCKET_NAME}')\n",
    "\n",
    "    print('Starting Process Transcript...')\n",
    "\n",
    "    # Instantiate a Google Cloud Storage client \n",
    "    storage_client = storage.Client()\n",
    "\n",
    "    # Process transcript from speech to text \n",
    "    gcs_uri = f\"gs://{SRC_BUCKET_NAME}/{FILE}\"\n",
    "    transcript = transcribe_gcs(gcs_uri)\n",
    "\n",
    "    # Upload data to gcs\n",
    "    upload_file_to_gcs(FILE, transcript, storage_client, DST_BUCKET_NAME)\n",
    "\n",
    "    print('Process Transcript Complete.')"
   ]
  },
  {
   "cell_type": "code",
   "execution_count": 2,
   "id": "wanted-valve",
   "metadata": {},
   "outputs": [
    {
     "name": "stdout",
     "output_type": "stream",
     "text": [
      "Source Bucket: meeting-audio-team13\n",
      "Source Filename: 3minzoommeeting.mp3\n",
      "Destination Bucket: meeting-transcript-processed-team13\n",
      "Starting Process Transcript...\n",
      "Waiting for operation to complete...\n",
      "Processed transcript stored in: /tmp/TRANSCRIBED_3minzoommeeting.txt\n",
      "/tmp/TRANSCRIBED_3minzoommeeting.txt uploaded to meeting-transcript-processed-team13/TRANSCRIBED_3minzoommeeting.txt.\n",
      "Process Transcript Complete.\n"
     ]
    }
   ],
   "source": [
    "if __name__ == \"__main__\":\n",
    "    \n",
    "    gcs_test_object = {\n",
    "        \"name\": \"3minzoommeeting.mp3\",\n",
    "        \"bucket\": \"meeting-audio-team13\",\n",
    "    }\n",
    "    \n",
    "    # In the Cloud Function set this as an environment variable\n",
    "    os.environ[\"DST_BUCKET_NAME\"] = \"meeting-transcript-team13\"\n",
    "    \n",
    "    process_transcripts(gcs_test_object)"
   ]
  },
  {
   "cell_type": "code",
   "execution_count": null,
   "id": "realistic-nepal",
   "metadata": {},
   "outputs": [],
   "source": []
  },
  {
   "cell_type": "code",
   "execution_count": 21,
   "id": "exact-portugal",
   "metadata": {},
   "outputs": [],
   "source": [
    "src_filename = \"im_on_mute.m4a\"\n",
    "\n",
    "src_filename2 = src_filename.replace(src_filename.split(\".\")[1], \"txt\")"
   ]
  },
  {
   "cell_type": "code",
   "execution_count": 22,
   "id": "caroline-upset",
   "metadata": {},
   "outputs": [
    {
     "name": "stdout",
     "output_type": "stream",
     "text": [
      "src_filename:  im_on_mute.m4a\n",
      "src_filename2:  im_on_mute.txt\n"
     ]
    }
   ],
   "source": [
    "print(\"src_filename: \", src_filename)\n",
    "\n",
    "print(\"src_filename2: \", src_filename2)"
   ]
  },
  {
   "cell_type": "code",
   "execution_count": null,
   "id": "incomplete-interim",
   "metadata": {},
   "outputs": [],
   "source": []
  }
 ],
 "metadata": {
  "environment": {
   "name": "common-cpu.mnightly-2021-01-20-debian-10-test",
   "type": "gcloud",
   "uri": "gcr.io/deeplearning-platform-release/base-cpu:mnightly-2021-01-20-debian-10-test"
  },
  "kernelspec": {
   "display_name": "Python 3",
   "language": "python",
   "name": "python3"
  },
  "language_info": {
   "codemirror_mode": {
    "name": "ipython",
    "version": 3
   },
   "file_extension": ".py",
   "mimetype": "text/x-python",
   "name": "python",
   "nbconvert_exporter": "python",
   "pygments_lexer": "ipython3",
   "version": "3.7.9"
  }
 },
 "nbformat": 4,
 "nbformat_minor": 5
}
